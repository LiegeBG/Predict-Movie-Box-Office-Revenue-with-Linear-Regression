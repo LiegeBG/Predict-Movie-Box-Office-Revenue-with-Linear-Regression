{
 "cells": [
  {
   "cell_type": "code",
   "execution_count": 10,
   "id": "352d4abb",
   "metadata": {},
   "outputs": [],
   "source": [
    "import pandas as pd\n",
    "from pandas import DataFrame\n",
    "import matplotlib\n",
    "from matplotlib import pyplot as plt\n",
    "\n",
    "from sklearn.linear_model import LinearRegression"
   ]
  },
  {
   "cell_type": "code",
   "execution_count": 11,
   "id": "1fc28188",
   "metadata": {},
   "outputs": [],
   "source": [
    "data = pd.read_csv('gross.csv')"
   ]
  },
  {
   "cell_type": "code",
   "execution_count": 12,
   "id": "3bf1e166",
   "metadata": {
    "scrolled": true
   },
   "outputs": [
    {
     "data": {
      "text/html": [
       "<div>\n",
       "<style scoped>\n",
       "    .dataframe tbody tr th:only-of-type {\n",
       "        vertical-align: middle;\n",
       "    }\n",
       "\n",
       "    .dataframe tbody tr th {\n",
       "        vertical-align: top;\n",
       "    }\n",
       "\n",
       "    .dataframe thead th {\n",
       "        text-align: right;\n",
       "    }\n",
       "</style>\n",
       "<table border=\"1\" class=\"dataframe\">\n",
       "  <thead>\n",
       "    <tr style=\"text-align: right;\">\n",
       "      <th></th>\n",
       "      <th>prod</th>\n",
       "      <th>Gross</th>\n",
       "    </tr>\n",
       "  </thead>\n",
       "  <tbody>\n",
       "    <tr>\n",
       "      <th>0</th>\n",
       "      <td>17432.0</td>\n",
       "      <td>71297219.0</td>\n",
       "    </tr>\n",
       "    <tr>\n",
       "      <th>1</th>\n",
       "      <td>2197.0</td>\n",
       "      <td>84116356.0</td>\n",
       "    </tr>\n",
       "    <tr>\n",
       "      <th>2</th>\n",
       "      <td>2008.0</td>\n",
       "      <td>143010207.0</td>\n",
       "    </tr>\n",
       "    <tr>\n",
       "      <th>3</th>\n",
       "      <td>1691.0</td>\n",
       "      <td>197007650.0</td>\n",
       "    </tr>\n",
       "    <tr>\n",
       "      <th>4</th>\n",
       "      <td>1349.0</td>\n",
       "      <td>17550963.0</td>\n",
       "    </tr>\n",
       "    <tr>\n",
       "      <th>5</th>\n",
       "      <td>2144.0</td>\n",
       "      <td>8452021.0</td>\n",
       "    </tr>\n",
       "    <tr>\n",
       "      <th>6</th>\n",
       "      <td>754.0</td>\n",
       "      <td>89699535.0</td>\n",
       "    </tr>\n",
       "    <tr>\n",
       "      <th>7</th>\n",
       "      <td>2113.0</td>\n",
       "      <td>2104767.0</td>\n",
       "    </tr>\n",
       "    <tr>\n",
       "      <th>8</th>\n",
       "      <td>704.0</td>\n",
       "      <td>7577158.0</td>\n",
       "    </tr>\n",
       "    <tr>\n",
       "      <th>9</th>\n",
       "      <td>597.0</td>\n",
       "      <td>7640510.0</td>\n",
       "    </tr>\n",
       "    <tr>\n",
       "      <th>10</th>\n",
       "      <td>1107.0</td>\n",
       "      <td>9767647.0</td>\n",
       "    </tr>\n",
       "    <tr>\n",
       "      <th>11</th>\n",
       "      <td>792.0</td>\n",
       "      <td>54934210.0</td>\n",
       "    </tr>\n",
       "    <tr>\n",
       "      <th>12</th>\n",
       "      <td>1394.0</td>\n",
       "      <td>223846343.0</td>\n",
       "    </tr>\n",
       "    <tr>\n",
       "      <th>13</th>\n",
       "      <td>611.0</td>\n",
       "      <td>10512289.0</td>\n",
       "    </tr>\n",
       "    <tr>\n",
       "      <th>14</th>\n",
       "      <td>400.0</td>\n",
       "      <td>121498751.0</td>\n",
       "    </tr>\n",
       "    <tr>\n",
       "      <th>15</th>\n",
       "      <td>2720.0</td>\n",
       "      <td>73244.0</td>\n",
       "    </tr>\n",
       "    <tr>\n",
       "      <th>16</th>\n",
       "      <td>48.0</td>\n",
       "      <td>247507.0</td>\n",
       "    </tr>\n",
       "    <tr>\n",
       "      <th>17</th>\n",
       "      <td>432.0</td>\n",
       "      <td>116944343.0</td>\n",
       "    </tr>\n",
       "    <tr>\n",
       "      <th>18</th>\n",
       "      <td>137.0</td>\n",
       "      <td>14948070.0</td>\n",
       "    </tr>\n",
       "    <tr>\n",
       "      <th>19</th>\n",
       "      <td>189.0</td>\n",
       "      <td>61181560.0</td>\n",
       "    </tr>\n",
       "    <tr>\n",
       "      <th>20</th>\n",
       "      <td>714.0</td>\n",
       "      <td>17841.0</td>\n",
       "    </tr>\n",
       "    <tr>\n",
       "      <th>21</th>\n",
       "      <td>13755.0</td>\n",
       "      <td>13755.0</td>\n",
       "    </tr>\n",
       "    <tr>\n",
       "      <th>22</th>\n",
       "      <td>146.0</td>\n",
       "      <td>136774.0</td>\n",
       "    </tr>\n",
       "    <tr>\n",
       "      <th>23</th>\n",
       "      <td>290.0</td>\n",
       "      <td>230492.0</td>\n",
       "    </tr>\n",
       "    <tr>\n",
       "      <th>24</th>\n",
       "      <td>397.0</td>\n",
       "      <td>140117.0</td>\n",
       "    </tr>\n",
       "    <tr>\n",
       "      <th>25</th>\n",
       "      <td>572.0</td>\n",
       "      <td>9138.0</td>\n",
       "    </tr>\n",
       "    <tr>\n",
       "      <th>26</th>\n",
       "      <td>334.0</td>\n",
       "      <td>238587.0</td>\n",
       "    </tr>\n",
       "    <tr>\n",
       "      <th>27</th>\n",
       "      <td>661.0</td>\n",
       "      <td>267353.0</td>\n",
       "    </tr>\n",
       "    <tr>\n",
       "      <th>28</th>\n",
       "      <td>539.0</td>\n",
       "      <td>62988.0</td>\n",
       "    </tr>\n",
       "    <tr>\n",
       "      <th>29</th>\n",
       "      <td>411.0</td>\n",
       "      <td>31412.0</td>\n",
       "    </tr>\n",
       "    <tr>\n",
       "      <th>30</th>\n",
       "      <td>401.0</td>\n",
       "      <td>102651.0</td>\n",
       "    </tr>\n",
       "    <tr>\n",
       "      <th>31</th>\n",
       "      <td>171.0</td>\n",
       "      <td>27613.0</td>\n",
       "    </tr>\n",
       "    <tr>\n",
       "      <th>32</th>\n",
       "      <td>163.0</td>\n",
       "      <td>442309.0</td>\n",
       "    </tr>\n",
       "    <tr>\n",
       "      <th>33</th>\n",
       "      <td>465.0</td>\n",
       "      <td>14135.0</td>\n",
       "    </tr>\n",
       "  </tbody>\n",
       "</table>\n",
       "</div>"
      ],
      "text/plain": [
       "       prod        Gross\n",
       "0   17432.0   71297219.0\n",
       "1    2197.0   84116356.0\n",
       "2    2008.0  143010207.0\n",
       "3    1691.0  197007650.0\n",
       "4    1349.0   17550963.0\n",
       "5    2144.0    8452021.0\n",
       "6     754.0   89699535.0\n",
       "7    2113.0    2104767.0\n",
       "8     704.0    7577158.0\n",
       "9     597.0    7640510.0\n",
       "10   1107.0    9767647.0\n",
       "11    792.0   54934210.0\n",
       "12   1394.0  223846343.0\n",
       "13    611.0   10512289.0\n",
       "14    400.0  121498751.0\n",
       "15   2720.0      73244.0\n",
       "16     48.0     247507.0\n",
       "17    432.0  116944343.0\n",
       "18    137.0   14948070.0\n",
       "19    189.0   61181560.0\n",
       "20    714.0      17841.0\n",
       "21  13755.0      13755.0\n",
       "22    146.0     136774.0\n",
       "23    290.0     230492.0\n",
       "24    397.0     140117.0\n",
       "25    572.0       9138.0\n",
       "26    334.0     238587.0\n",
       "27    661.0     267353.0\n",
       "28    539.0      62988.0\n",
       "29    411.0      31412.0\n",
       "30    401.0     102651.0\n",
       "31    171.0      27613.0\n",
       "32    163.0     442309.0\n",
       "33    465.0      14135.0"
      ]
     },
     "execution_count": 12,
     "metadata": {},
     "output_type": "execute_result"
    }
   ],
   "source": [
    "data"
   ]
  },
  {
   "cell_type": "code",
   "execution_count": 13,
   "id": "a26e564d",
   "metadata": {},
   "outputs": [
    {
     "data": {
      "text/html": [
       "<div>\n",
       "<style scoped>\n",
       "    .dataframe tbody tr th:only-of-type {\n",
       "        vertical-align: middle;\n",
       "    }\n",
       "\n",
       "    .dataframe tbody tr th {\n",
       "        vertical-align: top;\n",
       "    }\n",
       "\n",
       "    .dataframe thead th {\n",
       "        text-align: right;\n",
       "    }\n",
       "</style>\n",
       "<table border=\"1\" class=\"dataframe\">\n",
       "  <thead>\n",
       "    <tr style=\"text-align: right;\">\n",
       "      <th></th>\n",
       "      <th>prod</th>\n",
       "      <th>Gross</th>\n",
       "    </tr>\n",
       "  </thead>\n",
       "  <tbody>\n",
       "    <tr>\n",
       "      <th>count</th>\n",
       "      <td>34.000000</td>\n",
       "      <td>3.400000e+01</td>\n",
       "    </tr>\n",
       "    <tr>\n",
       "      <th>mean</th>\n",
       "      <td>1701.117647</td>\n",
       "      <td>3.659252e+07</td>\n",
       "    </tr>\n",
       "    <tr>\n",
       "      <th>std</th>\n",
       "      <td>3623.230835</td>\n",
       "      <td>6.034698e+07</td>\n",
       "    </tr>\n",
       "    <tr>\n",
       "      <th>min</th>\n",
       "      <td>48.000000</td>\n",
       "      <td>9.138000e+03</td>\n",
       "    </tr>\n",
       "    <tr>\n",
       "      <th>25%</th>\n",
       "      <td>397.750000</td>\n",
       "      <td>1.111818e+05</td>\n",
       "    </tr>\n",
       "    <tr>\n",
       "      <th>50%</th>\n",
       "      <td>604.000000</td>\n",
       "      <td>4.840962e+06</td>\n",
       "    </tr>\n",
       "    <tr>\n",
       "      <th>75%</th>\n",
       "      <td>1382.750000</td>\n",
       "      <td>5.961972e+07</td>\n",
       "    </tr>\n",
       "    <tr>\n",
       "      <th>max</th>\n",
       "      <td>17432.000000</td>\n",
       "      <td>2.238463e+08</td>\n",
       "    </tr>\n",
       "  </tbody>\n",
       "</table>\n",
       "</div>"
      ],
      "text/plain": [
       "               prod         Gross\n",
       "count     34.000000  3.400000e+01\n",
       "mean    1701.117647  3.659252e+07\n",
       "std     3623.230835  6.034698e+07\n",
       "min       48.000000  9.138000e+03\n",
       "25%      397.750000  1.111818e+05\n",
       "50%      604.000000  4.840962e+06\n",
       "75%     1382.750000  5.961972e+07\n",
       "max    17432.000000  2.238463e+08"
      ]
     },
     "execution_count": 13,
     "metadata": {},
     "output_type": "execute_result"
    }
   ],
   "source": [
    "data.describe()"
   ]
  },
  {
   "cell_type": "code",
   "execution_count": 14,
   "id": "fea52b26",
   "metadata": {},
   "outputs": [],
   "source": [
    "X = DataFrame(data, columns=['prod'])\n",
    "y = DataFrame(data, columns=['Gross'])"
   ]
  },
  {
   "cell_type": "code",
   "execution_count": 32,
   "id": "d5517dbc",
   "metadata": {
    "scrolled": false
   },
   "outputs": [
    {
     "data": {
      "image/png": "[encoded data removed]",
      "text/plain": [
       "<Figure size 432x288 with 1 Axes>"
      ]
     },
     "metadata": {
      "needs_background": "light"
     },
     "output_type": "display_data"
    }
   ],
   "source": [
    "plt.scatter(X ,y ,alpha=0.7)\n",
    "plt.title(\"End 2021 Movie's Film Cost VS Global Revenue\")\n",
    "plt.xlabel('Production Budget $')\n",
    "plt.ylabel('Worldwide Gross $')\n",
    "plt.xlim(0, )\n",
    "plt.ylim(0, )\n",
    "plt.show()"
   ]
  },
  {
   "cell_type": "markdown",
   "id": "53a99a2c",
   "metadata": {},
   "source": [
    "Slope Coefficient"
   ]
  },
  {
   "cell_type": "code",
   "execution_count": 18,
   "id": "72e2c621",
   "metadata": {},
   "outputs": [
    {
     "data": {
      "text/plain": [
       "LinearRegression()"
      ]
     },
     "execution_count": 18,
     "metadata": {},
     "output_type": "execute_result"
    }
   ],
   "source": [
    "regression = LinearRegression()\n",
    "regression.fit(X, y)"
   ]
  },
  {
   "cell_type": "code",
   "execution_count": 19,
   "id": "58badaa9",
   "metadata": {},
   "outputs": [
    {
     "data": {
      "text/plain": [
       "array([[1250.64647225]])"
      ]
     },
     "execution_count": 19,
     "metadata": {},
     "output_type": "execute_result"
    }
   ],
   "source": [
    "regression.coef_ #theta_1"
   ]
  },
  {
   "cell_type": "code",
   "execution_count": 20,
   "id": "9889f576",
   "metadata": {},
   "outputs": [
    {
     "data": {
      "text/plain": [
       "array([34465018.36288079])"
      ]
     },
     "execution_count": 20,
     "metadata": {},
     "output_type": "execute_result"
    }
   ],
   "source": [
    "regression.intercept_ #intercept"
   ]
  },
  {
   "cell_type": "code",
   "execution_count": null,
   "id": "998eed48",
   "metadata": {},
   "outputs": [],
   "source": []
  },
  {
   "cell_type": "code",
   "execution_count": 24,
   "id": "92b42f1c",
   "metadata": {
    "scrolled": false
   },
   "outputs": [
    {
     "data": {
      "image/png": "[encoded data removed]",
      "text/plain": [
       "<Figure size 432x288 with 1 Axes>"
      ]
     },
     "metadata": {
      "needs_background": "light"
     },
     "output_type": "display_data"
    }
   ],
   "source": [
    "plt.scatter(X ,y ,alpha=0.7)\n",
    "plt.plot(X, regression.predict(X), color='orange', linewidth=4)\n",
    "plt.title(\"End 2021 Movie's Film Cost VS Global Revenue\")\n",
    "plt.xlabel('Production Budget $')\n",
    "plt.ylabel('Worldwide Gross $')\n",
    "plt.xlim(0, 20000000)\n",
    "plt.ylim(0, 20000000)\n",
    "plt.show()"
   ]
  },
  {
   "cell_type": "code",
   "execution_count": 25,
   "id": "ff5578b2",
   "metadata": {},
   "outputs": [
    {
     "data": {
      "text/plain": [
       "0.005638325118209164"
      ]
     },
     "execution_count": 25,
     "metadata": {},
     "output_type": "execute_result"
    }
   ],
   "source": [
    "regression.score(X, y)"
   ]
  },
  {
   "cell_type": "code",
   "execution_count": null,
   "id": "7440724d",
   "metadata": {},
   "outputs": [],
   "source": []
  }
 ],
 "metadata": {
  "kernelspec": {
   "display_name": "Python 3 (ipykernel)",
   "language": "python",
   "name": "python3"
  },
  "language_info": {
   "codemirror_mode": {
    "name": "ipython",
    "version": 3
   },
   "file_extension": ".py",
   "mimetype": "text/x-python",
   "name": "python",
   "nbconvert_exporter": "python",
   "pygments_lexer": "ipython3",
   "version": "3.9.0"
  }
 },
 "nbformat": 4,
 "nbformat_minor": 5
}
